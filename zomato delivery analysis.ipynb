{
 "cells": [
  {
   "cell_type": "code",
   "execution_count": 1,
   "id": "6c83e384",
   "metadata": {},
   "outputs": [],
   "source": [
    "import pandas as pd\n",
    "import numpy as np\n",
    "from bs4 import BeautifulSoup\n",
    "import requests\n",
    "import warnings\n",
    "import re\n",
    "import math\n",
    "import seaborn as sns\n",
    "from matplotlib import pyplot as plt\n",
    "from sklearn.preprocessing import LabelEncoder\n",
    "from sklearn.model_selection import train_test_split\n",
    "from sklearn.linear_model import LinearRegression\n",
    "from sklearn.metrics import (\n",
    "    r2_score,\n",
    "    mean_absolute_error as mae,\n",
    "    mean_squared_error as mse,\n",
    ")\n",
    "\n",
    "\n",
    "warnings.filterwarnings('ignore')"
   ]
  },
  {
   "cell_type": "code",
   "execution_count": 2,
   "id": "ba8b25c9",
   "metadata": {},
   "outputs": [],
   "source": [
    "url_list = [\n",
    "    'https://www.zomato.com/mumbai/delivery-in-powai',\n",
    "    'https://www.zomato.com/mumbai/delivery-in-lower-parel',\n",
    "    'https://www.zomato.com/mumbai/delivery-in-vashi',\n",
    "    'https://www.zomato.com/mumbai/delivery-in-malad-west',\n",
    "    'https://www.zomato.com/mumbai/delivery-in-malad-east',\n",
    "    'https://www.zomato.com/mumbai/delivery-in-juhu',\n",
    "    'https://www.zomato.com/mumbai/delivery-in-chembur',\n",
    "    'https://www.zomato.com/mumbai/delivery-in-marol',\n",
    "    'https://www.zomato.com/mumbai/delivery-in-khar',\n",
    "    'https://www.zomato.com/mumbai/delivery-in-chakala',\n",
    "    'https://www.zomato.com/mumbai/delivery-in-colaba',\n",
    "    'https://www.zomato.com/mumbai/delivery-in-sakinaka',\n",
    "    'https://www.zomato.com/mumbai/delivery-in-borivali-east',\n",
    "    'https://www.zomato.com/mumbai/delivery-in-kandivali-west',\n",
    "    'https://www.zomato.com/mumbai/delivery-in-churchgate'\n",
    "]"
   ]
  },
  {
   "cell_type": "code",
   "execution_count": 3,
   "id": "dd5c4f79",
   "metadata": {},
   "outputs": [],
   "source": [
    "for url in url_list:\n",
    "    # Send a GET request \n",
    "    response = requests.get(url, headers={\"User-Agent\": \"Mozilla/5.0\"})\n",
    "    \n",
    "    # creating a soup object.\n",
    "    soup = BeautifulSoup(response.text, 'html.parser')\n",
    "    \n",
    "    table = {\n",
    "        'location':[],\n",
    "        'resturant_names':[],\n",
    "    }\n",
    "    \n",
    "    temp_rating = []\n",
    "    location = soup.find('div',id='root').find('div',class_='sc-jGxEUC dOXmkw').find('div',class_='sc-1mo3ldo-0').text.strip().split('/')[-2]\n",
    "    table['location'].append(location)\n",
    "    for items in soup.find('div',id='root').find('div',class_='sc-jGxEUC dOXmkw').select('div',class_='sc-hPeUyl cKQNlu'):\n",
    "        a = items.select('h4',class_='sc-1hp8d8a-0 sc-Ehqfj bxOQva')\n",
    "        b = items.select('div',class_='sc-1q7bklc-1 cILgox')\n",
    "        for i in a:\n",
    "            if i is not None and i.text.strip() not in table['resturant_names']:\n",
    "                table['resturant_names'].append(i.text.strip())\n",
    "        for j in b:\n",
    "            if j is not None and \"Beverages\" in j.text and \"for one\" in j.text and \"min\" in j.text:\n",
    "                details = re.sub(r\"(\\D+)(\\d+\\.\\d+)(\\s*)(star-fill)(\\S+)\", r\"\\1 \\2 \\3\\4 \\5\",j.text)\n",
    "                temp_rating.append(details.replace('OFF',\"OFF \").replace(\"Promoted\",\"Promoted \"))\n",
    "            \n",
    "    details_table = {\n",
    "        'discount':[],\n",
    "        'resturant_names':[],\n",
    "        'rating':[],\n",
    "        'espacial':[],\n",
    "        'price':[],\n",
    "        'delivery_time':[]\n",
    "    }\n",
    "    for name in table['resturant_names']:\n",
    "        for sentence in temp_rating:\n",
    "        \n",
    "            # Search for the name and extract two words before and after\n",
    "            match = re.search(rf\"(\\S+ \\S+) {re.escape(name)} (\\d+\\.\\d+) star-fill(.*?)Beverages(.\\d+) for one (\\d+ min)\", sentence)\n",
    "            if match:\n",
    "                discount = match.group(1)  # Two words before the name\n",
    "                rating = match.group(2)  # Number after the name\n",
    "                espacial = match.group(3)\n",
    "                price = match.group(4)\n",
    "                delivery_time = match.group(5)\n",
    "                \n",
    "                details_table['discount'].append(discount.replace('min','').replace('Promoted',''))\n",
    "                details_table['resturant_names'].append(name)\n",
    "                details_table['rating'].append(rating)\n",
    "                details_table['espacial'].append(espacial)\n",
    "                details_table['price'].append(price)\n",
    "                details_table['delivery_time'].append(delivery_time)      \n",
    "    \n",
    "    # creating a name for csv file.\n",
    "    file_name = url.split('delivery-in-')[1]\n",
    "    \n",
    "    # creating a csv file.\n",
    "    max_len = max(len(v) for v in table.values())\n",
    "\n",
    "    for key in table:\n",
    "        while len(table[key]) < max_len:\n",
    "            table[key].append(None)  # Pad with None, or use \"\" or 0 if you prefer\n",
    "    \n",
    "    df = pd.DataFrame(table)\n",
    "\n",
    "    df.to_csv(f'{file_name}.csv',index = False)\n",
    "    \n",
    "    # creating a file for details of resturant.\n",
    "\n",
    "    max_len = max(len(v) for v in details_table.values())\n",
    "\n",
    "    for key in details_table:\n",
    "        while len(details_table[key]) < max_len:\n",
    "            details_table[key].append(None)  # Pad with None, or use \"\" or 0 if you prefer\n",
    "    \n",
    "    df = pd.DataFrame(details_table)\n",
    "\n",
    "    df.to_csv(f'{file_name}_details.csv',index = False)"
   ]
  },
  {
   "cell_type": "markdown",
   "id": "07b88142",
   "metadata": {},
   "source": [
    "## Data Pre-Processing"
   ]
  },
  {
   "cell_type": "code",
   "execution_count": 4,
   "id": "8938c8f5",
   "metadata": {
    "scrolled": true
   },
   "outputs": [
    {
     "name": "stdout",
     "output_type": "stream",
     "text": [
      "location           8\n",
      "resturant_names    0\n",
      "dtype: int64\n",
      "location           0\n",
      "resturant_names    0\n",
      "dtype: int64\n",
      "location           8\n",
      "resturant_names    0\n",
      "dtype: int64\n",
      "location           0\n",
      "resturant_names    0\n",
      "dtype: int64\n",
      "location           8\n",
      "resturant_names    0\n",
      "dtype: int64\n",
      "location           0\n",
      "resturant_names    0\n",
      "dtype: int64\n",
      "location           8\n",
      "resturant_names    0\n",
      "dtype: int64\n",
      "location           0\n",
      "resturant_names    0\n",
      "dtype: int64\n",
      "location           8\n",
      "resturant_names    0\n",
      "dtype: int64\n",
      "location           0\n",
      "resturant_names    0\n",
      "dtype: int64\n",
      "location           8\n",
      "resturant_names    0\n",
      "dtype: int64\n",
      "location           0\n",
      "resturant_names    0\n",
      "dtype: int64\n",
      "location           8\n",
      "resturant_names    0\n",
      "dtype: int64\n",
      "location           0\n",
      "resturant_names    0\n",
      "dtype: int64\n",
      "location           8\n",
      "resturant_names    0\n",
      "dtype: int64\n",
      "location           0\n",
      "resturant_names    0\n",
      "dtype: int64\n",
      "location           8\n",
      "resturant_names    0\n",
      "dtype: int64\n",
      "location           0\n",
      "resturant_names    0\n",
      "dtype: int64\n",
      "location           8\n",
      "resturant_names    0\n",
      "dtype: int64\n",
      "location           0\n",
      "resturant_names    0\n",
      "dtype: int64\n",
      "location           8\n",
      "resturant_names    0\n",
      "dtype: int64\n",
      "location           0\n",
      "resturant_names    0\n",
      "dtype: int64\n",
      "location           8\n",
      "resturant_names    0\n",
      "dtype: int64\n",
      "location           0\n",
      "resturant_names    0\n",
      "dtype: int64\n",
      "location           8\n",
      "resturant_names    0\n",
      "dtype: int64\n",
      "location           0\n",
      "resturant_names    0\n",
      "dtype: int64\n",
      "location           8\n",
      "resturant_names    0\n",
      "dtype: int64\n",
      "location           0\n",
      "resturant_names    0\n",
      "dtype: int64\n",
      "location           8\n",
      "resturant_names    0\n",
      "dtype: int64\n",
      "location           0\n",
      "resturant_names    0\n",
      "dtype: int64\n"
     ]
    }
   ],
   "source": [
    "for url in url_list:\n",
    "    file_name = url.split('delivery-in-')[1]\n",
    "    df = pd.read_csv(f'{file_name}.csv')\n",
    "    print(df.isnull().sum())\n",
    "    location = df['location'][0]\n",
    "    df.fillna(location,inplace = True)\n",
    "    print(df.isnull().sum())\n",
    "    \n",
    "    # loading clean data back to csv file.\n",
    "    df.to_csv(f'{file_name}.csv',index = False)    \n",
    "    \n"
   ]
  },
  {
   "cell_type": "code",
   "execution_count": 6,
   "id": "84e3f589",
   "metadata": {},
   "outputs": [],
   "source": [
    "combined_df = pd.DataFrame()\n",
    "for url in url_list:\n",
    "    file_name = url.split('delivery-in-')[1] \n",
    "    resturant_df = pd.read_csv(f'{file_name}.csv')\n",
    "    details_df = pd.read_csv(f'{file_name}_details.csv')\n",
    "    \n",
    "    merge_df = pd.merge(resturant_df, details_df, on = 'resturant_names', how = 'inner')\n",
    "    combined_df = pd.concat([combined_df, merge_df])\n",
    "\n",
    "combined_df.to_csv('restaurant_data.csv',index = False)    "
   ]
  },
  {
   "cell_type": "code",
   "execution_count": 7,
   "id": "ab0baab5",
   "metadata": {},
   "outputs": [],
   "source": [
    "df = pd.read_csv('restaurant_data.csv')"
   ]
  },
  {
   "cell_type": "markdown",
   "id": "0e8e4016",
   "metadata": {},
   "source": [
    "#### replace values and typecasting its data type."
   ]
  },
  {
   "cell_type": "code",
   "execution_count": 8,
   "id": "f1290d4b",
   "metadata": {},
   "outputs": [],
   "source": [
    "\n",
    "df['location'] = df['location'].str.replace(' Restaurants','')\n",
    "\n",
    "df['delivery_time'] = df['delivery_time'].str.replace('min','')\n",
    "df['delivery_time'] = df['delivery_time'].astype(int)\n",
    "\n",
    "\n",
    "df['price'] = df['price'].str.slice(1)\n",
    "df['price'] = df['price'].astype(int)"
   ]
  },
  {
   "cell_type": "markdown",
   "id": "5a2a8e47",
   "metadata": {},
   "source": [
    "#### removing duplicate values"
   ]
  },
  {
   "cell_type": "code",
   "execution_count": 9,
   "id": "5b774ade",
   "metadata": {},
   "outputs": [],
   "source": [
    "df.drop_duplicates(inplace = True)"
   ]
  },
  {
   "cell_type": "markdown",
   "id": "73a7ce80",
   "metadata": {},
   "source": [
    "## Exploring the data (EDA)"
   ]
  },
  {
   "cell_type": "code",
   "execution_count": 10,
   "id": "e129ac64",
   "metadata": {},
   "outputs": [
    {
     "data": {
      "text/plain": [
       "(57, 7)"
      ]
     },
     "execution_count": 10,
     "metadata": {},
     "output_type": "execute_result"
    }
   ],
   "source": [
    "df.shape"
   ]
  },
  {
   "cell_type": "code",
   "execution_count": 11,
   "id": "38805339",
   "metadata": {},
   "outputs": [
    {
     "data": {
      "text/html": [
       "<div>\n",
       "<style scoped>\n",
       "    .dataframe tbody tr th:only-of-type {\n",
       "        vertical-align: middle;\n",
       "    }\n",
       "\n",
       "    .dataframe tbody tr th {\n",
       "        vertical-align: top;\n",
       "    }\n",
       "\n",
       "    .dataframe thead th {\n",
       "        text-align: right;\n",
       "    }\n",
       "</style>\n",
       "<table border=\"1\" class=\"dataframe\">\n",
       "  <thead>\n",
       "    <tr style=\"text-align: right;\">\n",
       "      <th></th>\n",
       "      <th>location</th>\n",
       "      <th>resturant_names</th>\n",
       "      <th>discount</th>\n",
       "      <th>rating</th>\n",
       "      <th>espacial</th>\n",
       "      <th>price</th>\n",
       "      <th>delivery_time</th>\n",
       "    </tr>\n",
       "  </thead>\n",
       "  <tbody>\n",
       "    <tr>\n",
       "      <th>0</th>\n",
       "      <td>Powai</td>\n",
       "      <td>McDonald's</td>\n",
       "      <td>10% OFF</td>\n",
       "      <td>4.4</td>\n",
       "      <td>Burger, Fast Food, Cafe,</td>\n",
       "      <td>200</td>\n",
       "      <td>19</td>\n",
       "    </tr>\n",
       "    <tr>\n",
       "      <th>10</th>\n",
       "      <td>Powai</td>\n",
       "      <td>Theobroma</td>\n",
       "      <td>₹150 OFF</td>\n",
       "      <td>4.4</td>\n",
       "      <td>Bakery, Desserts, Fast Food,</td>\n",
       "      <td>200</td>\n",
       "      <td>14</td>\n",
       "    </tr>\n",
       "    <tr>\n",
       "      <th>20</th>\n",
       "      <td>Powai</td>\n",
       "      <td>Pizza Hut</td>\n",
       "      <td>20% OFF</td>\n",
       "      <td>3.7</td>\n",
       "      <td>Pizza, Italian, Fast Food, Desserts,</td>\n",
       "      <td>200</td>\n",
       "      <td>25</td>\n",
       "    </tr>\n",
       "    <tr>\n",
       "      <th>30</th>\n",
       "      <td>Lower Parel</td>\n",
       "      <td>Lil Gamby Pizza Shop And Bar</td>\n",
       "      <td>₹150 OFF</td>\n",
       "      <td>4.3</td>\n",
       "      <td>Pizza, Sandwich, Pasta, Beverages, Coffee₹400...</td>\n",
       "      <td>200</td>\n",
       "      <td>33</td>\n",
       "    </tr>\n",
       "    <tr>\n",
       "      <th>31</th>\n",
       "      <td>Lower Parel</td>\n",
       "      <td>Pizza Hut</td>\n",
       "      <td>20% OFF</td>\n",
       "      <td>3.7</td>\n",
       "      <td>Pizza, Italian, Fast Food, Desserts,</td>\n",
       "      <td>200</td>\n",
       "      <td>33</td>\n",
       "    </tr>\n",
       "  </tbody>\n",
       "</table>\n",
       "</div>"
      ],
      "text/plain": [
       "       location               resturant_names  discount  rating   \n",
       "0         Powai                    McDonald's   10% OFF     4.4  \\\n",
       "10        Powai                     Theobroma  ₹150 OFF     4.4   \n",
       "20        Powai                     Pizza Hut   20% OFF     3.7   \n",
       "30  Lower Parel  Lil Gamby Pizza Shop And Bar  ₹150 OFF     4.3   \n",
       "31  Lower Parel                     Pizza Hut   20% OFF     3.7   \n",
       "\n",
       "                                             espacial  price  delivery_time  \n",
       "0                           Burger, Fast Food, Cafe,     200             19  \n",
       "10                      Bakery, Desserts, Fast Food,     200             14  \n",
       "20              Pizza, Italian, Fast Food, Desserts,     200             25  \n",
       "30   Pizza, Sandwich, Pasta, Beverages, Coffee₹400...    200             33  \n",
       "31              Pizza, Italian, Fast Food, Desserts,     200             33  "
      ]
     },
     "execution_count": 11,
     "metadata": {},
     "output_type": "execute_result"
    }
   ],
   "source": [
    "df.head()"
   ]
  },
  {
   "cell_type": "code",
   "execution_count": 12,
   "id": "f9aaef34",
   "metadata": {},
   "outputs": [
    {
     "name": "stdout",
     "output_type": "stream",
     "text": [
      "<class 'pandas.core.frame.DataFrame'>\n",
      "Index: 57 entries, 0 to 434\n",
      "Data columns (total 7 columns):\n",
      " #   Column           Non-Null Count  Dtype  \n",
      "---  ------           --------------  -----  \n",
      " 0   location         57 non-null     object \n",
      " 1   resturant_names  57 non-null     object \n",
      " 2   discount         57 non-null     object \n",
      " 3   rating           57 non-null     float64\n",
      " 4   espacial         57 non-null     object \n",
      " 5   price            57 non-null     int32  \n",
      " 6   delivery_time    57 non-null     int32  \n",
      "dtypes: float64(1), int32(2), object(4)\n",
      "memory usage: 3.1+ KB\n"
     ]
    }
   ],
   "source": [
    "df.info()"
   ]
  },
  {
   "cell_type": "code",
   "execution_count": 13,
   "id": "e6e7e09e",
   "metadata": {},
   "outputs": [
    {
     "data": {
      "text/plain": [
       "array(['10% OFF', '₹150 OFF', '20% OFF', '₹200 OFF', '₹175 OFF',\n",
       "       '₹125 OFF', '30% OFF', '29 ', '₹100 OFF', '60% OFF'], dtype=object)"
      ]
     },
     "execution_count": 13,
     "metadata": {},
     "output_type": "execute_result"
    }
   ],
   "source": [
    "df['discount'].unique()"
   ]
  },
  {
   "cell_type": "code",
   "execution_count": 14,
   "id": "8970c435",
   "metadata": {},
   "outputs": [
    {
     "data": {
      "text/plain": [
       "<Axes: >"
      ]
     },
     "execution_count": 14,
     "metadata": {},
     "output_type": "execute_result"
    },
    {
     "data": {
      "image/png": "[encoded data removed]",
      "text/plain": [
       "<Figure size 640x480 with 2 Axes>"
      ]
     },
     "metadata": {},
     "output_type": "display_data"
    }
   ],
   "source": [
    "corr = df.corr(numeric_only = True)\n",
    "sns.heatmap(corr, annot = True)"
   ]
  },
  {
   "cell_type": "markdown",
   "id": "a6ebd47c",
   "metadata": {},
   "source": [
    "## Data Analysis"
   ]
  },
  {
   "cell_type": "code",
   "execution_count": 15,
   "id": "2e18c390",
   "metadata": {},
   "outputs": [
    {
     "name": "stdout",
     "output_type": "stream",
     "text": [
      "<class 'pandas.core.frame.DataFrame'>\n",
      "Index: 57 entries, 0 to 434\n",
      "Data columns (total 7 columns):\n",
      " #   Column           Non-Null Count  Dtype  \n",
      "---  ------           --------------  -----  \n",
      " 0   location         57 non-null     object \n",
      " 1   resturant_names  57 non-null     object \n",
      " 2   discount         57 non-null     object \n",
      " 3   rating           57 non-null     float64\n",
      " 4   espacial         57 non-null     object \n",
      " 5   price            57 non-null     int32  \n",
      " 6   delivery_time    57 non-null     int32  \n",
      "dtypes: float64(1), int32(2), object(4)\n",
      "memory usage: 3.1+ KB\n"
     ]
    }
   ],
   "source": [
    "df.info()"
   ]
  },
  {
   "cell_type": "markdown",
   "id": "727572fb",
   "metadata": {},
   "source": [
    "#### Find the average delivery time per location."
   ]
  },
  {
   "cell_type": "code",
   "execution_count": 17,
   "id": "34991bd7",
   "metadata": {},
   "outputs": [
    {
     "data": {
      "text/html": [
       "<div>\n",
       "<style scoped>\n",
       "    .dataframe tbody tr th:only-of-type {\n",
       "        vertical-align: middle;\n",
       "    }\n",
       "\n",
       "    .dataframe tbody tr th {\n",
       "        vertical-align: top;\n",
       "    }\n",
       "\n",
       "    .dataframe thead th {\n",
       "        text-align: right;\n",
       "    }\n",
       "</style>\n",
       "<table border=\"1\" class=\"dataframe\">\n",
       "  <thead>\n",
       "    <tr style=\"text-align: right;\">\n",
       "      <th></th>\n",
       "      <th>location</th>\n",
       "      <th>avg_delivery_time</th>\n",
       "    </tr>\n",
       "  </thead>\n",
       "  <tbody>\n",
       "    <tr>\n",
       "      <th>0</th>\n",
       "      <td>Borivali East</td>\n",
       "      <td>20.200000</td>\n",
       "    </tr>\n",
       "    <tr>\n",
       "      <th>1</th>\n",
       "      <td>Chakala</td>\n",
       "      <td>22.500000</td>\n",
       "    </tr>\n",
       "    <tr>\n",
       "      <th>2</th>\n",
       "      <td>Chembur</td>\n",
       "      <td>30.000000</td>\n",
       "    </tr>\n",
       "    <tr>\n",
       "      <th>3</th>\n",
       "      <td>Churchgate</td>\n",
       "      <td>18.500000</td>\n",
       "    </tr>\n",
       "    <tr>\n",
       "      <th>4</th>\n",
       "      <td>Colaba</td>\n",
       "      <td>16.250000</td>\n",
       "    </tr>\n",
       "    <tr>\n",
       "      <th>5</th>\n",
       "      <td>Juhu</td>\n",
       "      <td>19.400000</td>\n",
       "    </tr>\n",
       "    <tr>\n",
       "      <th>6</th>\n",
       "      <td>Kandivali West</td>\n",
       "      <td>21.285714</td>\n",
       "    </tr>\n",
       "    <tr>\n",
       "      <th>7</th>\n",
       "      <td>Khar</td>\n",
       "      <td>21.250000</td>\n",
       "    </tr>\n",
       "    <tr>\n",
       "      <th>8</th>\n",
       "      <td>Lower Parel</td>\n",
       "      <td>25.000000</td>\n",
       "    </tr>\n",
       "    <tr>\n",
       "      <th>9</th>\n",
       "      <td>Malad East</td>\n",
       "      <td>23.333333</td>\n",
       "    </tr>\n",
       "    <tr>\n",
       "      <th>10</th>\n",
       "      <td>Malad West</td>\n",
       "      <td>20.000000</td>\n",
       "    </tr>\n",
       "    <tr>\n",
       "      <th>11</th>\n",
       "      <td>Marol</td>\n",
       "      <td>13.000000</td>\n",
       "    </tr>\n",
       "    <tr>\n",
       "      <th>12</th>\n",
       "      <td>Powai</td>\n",
       "      <td>19.333333</td>\n",
       "    </tr>\n",
       "    <tr>\n",
       "      <th>13</th>\n",
       "      <td>Sakinaka</td>\n",
       "      <td>28.500000</td>\n",
       "    </tr>\n",
       "    <tr>\n",
       "      <th>14</th>\n",
       "      <td>Vashi</td>\n",
       "      <td>27.500000</td>\n",
       "    </tr>\n",
       "  </tbody>\n",
       "</table>\n",
       "</div>"
      ],
      "text/plain": [
       "          location  avg_delivery_time\n",
       "0    Borivali East          20.200000\n",
       "1          Chakala          22.500000\n",
       "2          Chembur          30.000000\n",
       "3       Churchgate          18.500000\n",
       "4           Colaba          16.250000\n",
       "5             Juhu          19.400000\n",
       "6   Kandivali West          21.285714\n",
       "7             Khar          21.250000\n",
       "8      Lower Parel          25.000000\n",
       "9       Malad East          23.333333\n",
       "10      Malad West          20.000000\n",
       "11           Marol          13.000000\n",
       "12           Powai          19.333333\n",
       "13        Sakinaka          28.500000\n",
       "14           Vashi          27.500000"
      ]
     },
     "execution_count": 17,
     "metadata": {},
     "output_type": "execute_result"
    }
   ],
   "source": [
    "delivery_time_by_location = df.groupby('location', as_index=False).agg(\n",
    "    avg_delivery_time=('delivery_time', 'mean')\n",
    ")\n",
    "delivery_time_by_location"
   ]
  },
  {
   "cell_type": "markdown",
   "id": "04239a4b",
   "metadata": {},
   "source": [
    "#### Find the lowest price in each location."
   ]
  },
  {
   "cell_type": "code",
   "execution_count": 18,
   "id": "8f5d3dd9",
   "metadata": {},
   "outputs": [
    {
     "data": {
      "text/html": [
       "<div>\n",
       "<style scoped>\n",
       "    .dataframe tbody tr th:only-of-type {\n",
       "        vertical-align: middle;\n",
       "    }\n",
       "\n",
       "    .dataframe tbody tr th {\n",
       "        vertical-align: top;\n",
       "    }\n",
       "\n",
       "    .dataframe thead th {\n",
       "        text-align: right;\n",
       "    }\n",
       "</style>\n",
       "<table border=\"1\" class=\"dataframe\">\n",
       "  <thead>\n",
       "    <tr style=\"text-align: right;\">\n",
       "      <th></th>\n",
       "      <th>location</th>\n",
       "      <th>price_in_RS</th>\n",
       "    </tr>\n",
       "  </thead>\n",
       "  <tbody>\n",
       "    <tr>\n",
       "      <th>0</th>\n",
       "      <td>Borivali East</td>\n",
       "      <td>150</td>\n",
       "    </tr>\n",
       "    <tr>\n",
       "      <th>1</th>\n",
       "      <td>Chakala</td>\n",
       "      <td>200</td>\n",
       "    </tr>\n",
       "    <tr>\n",
       "      <th>2</th>\n",
       "      <td>Chembur</td>\n",
       "      <td>200</td>\n",
       "    </tr>\n",
       "    <tr>\n",
       "      <th>3</th>\n",
       "      <td>Churchgate</td>\n",
       "      <td>150</td>\n",
       "    </tr>\n",
       "    <tr>\n",
       "      <th>4</th>\n",
       "      <td>Colaba</td>\n",
       "      <td>150</td>\n",
       "    </tr>\n",
       "    <tr>\n",
       "      <th>5</th>\n",
       "      <td>Juhu</td>\n",
       "      <td>200</td>\n",
       "    </tr>\n",
       "    <tr>\n",
       "      <th>6</th>\n",
       "      <td>Kandivali West</td>\n",
       "      <td>200</td>\n",
       "    </tr>\n",
       "    <tr>\n",
       "      <th>7</th>\n",
       "      <td>Khar</td>\n",
       "      <td>200</td>\n",
       "    </tr>\n",
       "    <tr>\n",
       "      <th>8</th>\n",
       "      <td>Lower Parel</td>\n",
       "      <td>200</td>\n",
       "    </tr>\n",
       "    <tr>\n",
       "      <th>9</th>\n",
       "      <td>Malad East</td>\n",
       "      <td>150</td>\n",
       "    </tr>\n",
       "    <tr>\n",
       "      <th>10</th>\n",
       "      <td>Malad West</td>\n",
       "      <td>200</td>\n",
       "    </tr>\n",
       "    <tr>\n",
       "      <th>11</th>\n",
       "      <td>Marol</td>\n",
       "      <td>150</td>\n",
       "    </tr>\n",
       "    <tr>\n",
       "      <th>12</th>\n",
       "      <td>Powai</td>\n",
       "      <td>200</td>\n",
       "    </tr>\n",
       "    <tr>\n",
       "      <th>13</th>\n",
       "      <td>Sakinaka</td>\n",
       "      <td>100</td>\n",
       "    </tr>\n",
       "    <tr>\n",
       "      <th>14</th>\n",
       "      <td>Vashi</td>\n",
       "      <td>200</td>\n",
       "    </tr>\n",
       "  </tbody>\n",
       "</table>\n",
       "</div>"
      ],
      "text/plain": [
       "          location  price_in_RS\n",
       "0    Borivali East          150\n",
       "1          Chakala          200\n",
       "2          Chembur          200\n",
       "3       Churchgate          150\n",
       "4           Colaba          150\n",
       "5             Juhu          200\n",
       "6   Kandivali West          200\n",
       "7             Khar          200\n",
       "8      Lower Parel          200\n",
       "9       Malad East          150\n",
       "10      Malad West          200\n",
       "11           Marol          150\n",
       "12           Powai          200\n",
       "13        Sakinaka          100\n",
       "14           Vashi          200"
      ]
     },
     "execution_count": 18,
     "metadata": {},
     "output_type": "execute_result"
    }
   ],
   "source": [
    "lowest_price = df.groupby('location', as_index=False).agg(\n",
    "    price_in_RS = ('price', 'min')\n",
    ")\n",
    "lowest_price"
   ]
  },
  {
   "cell_type": "markdown",
   "id": "1f632a87",
   "metadata": {},
   "source": [
    "#### Find the Ratings by resturants."
   ]
  },
  {
   "cell_type": "code",
   "execution_count": 19,
   "id": "7006955b",
   "metadata": {},
   "outputs": [
    {
     "data": {
      "text/html": [
       "<div>\n",
       "<style scoped>\n",
       "    .dataframe tbody tr th:only-of-type {\n",
       "        vertical-align: middle;\n",
       "    }\n",
       "\n",
       "    .dataframe tbody tr th {\n",
       "        vertical-align: top;\n",
       "    }\n",
       "\n",
       "    .dataframe thead th {\n",
       "        text-align: right;\n",
       "    }\n",
       "</style>\n",
       "<table border=\"1\" class=\"dataframe\">\n",
       "  <thead>\n",
       "    <tr style=\"text-align: right;\">\n",
       "      <th></th>\n",
       "      <th>resturant_names</th>\n",
       "      <th>Ratings</th>\n",
       "    </tr>\n",
       "  </thead>\n",
       "  <tbody>\n",
       "    <tr>\n",
       "      <th>0</th>\n",
       "      <td>7Eleven</td>\n",
       "      <td>4.100000</td>\n",
       "    </tr>\n",
       "    <tr>\n",
       "      <th>1</th>\n",
       "      <td>Bhagwati Veg Restaurant</td>\n",
       "      <td>4.250000</td>\n",
       "    </tr>\n",
       "    <tr>\n",
       "      <th>2</th>\n",
       "      <td>Cafe Heaven</td>\n",
       "      <td>3.900000</td>\n",
       "    </tr>\n",
       "    <tr>\n",
       "      <th>3</th>\n",
       "      <td>Cheelizza - India Ka Pizza</td>\n",
       "      <td>4.200000</td>\n",
       "    </tr>\n",
       "    <tr>\n",
       "      <th>4</th>\n",
       "      <td>Chinese Wok</td>\n",
       "      <td>4.100000</td>\n",
       "    </tr>\n",
       "    <tr>\n",
       "      <th>5</th>\n",
       "      <td>Cremure</td>\n",
       "      <td>4.500000</td>\n",
       "    </tr>\n",
       "    <tr>\n",
       "      <th>6</th>\n",
       "      <td>Dabba Garam</td>\n",
       "      <td>4.300000</td>\n",
       "    </tr>\n",
       "    <tr>\n",
       "      <th>7</th>\n",
       "      <td>HRX by EatFit</td>\n",
       "      <td>4.100000</td>\n",
       "    </tr>\n",
       "    <tr>\n",
       "      <th>8</th>\n",
       "      <td>La Pino'z Pizza</td>\n",
       "      <td>3.833333</td>\n",
       "    </tr>\n",
       "    <tr>\n",
       "      <th>9</th>\n",
       "      <td>Lil Gamby Pizza Shop</td>\n",
       "      <td>4.200000</td>\n",
       "    </tr>\n",
       "    <tr>\n",
       "      <th>10</th>\n",
       "      <td>Lil Gamby Pizza Shop And Bar</td>\n",
       "      <td>4.300000</td>\n",
       "    </tr>\n",
       "    <tr>\n",
       "      <th>11</th>\n",
       "      <td>McDonald's</td>\n",
       "      <td>4.223077</td>\n",
       "    </tr>\n",
       "    <tr>\n",
       "      <th>12</th>\n",
       "      <td>Meraki</td>\n",
       "      <td>4.200000</td>\n",
       "    </tr>\n",
       "    <tr>\n",
       "      <th>13</th>\n",
       "      <td>NIC Ice Creams</td>\n",
       "      <td>4.500000</td>\n",
       "    </tr>\n",
       "    <tr>\n",
       "      <th>14</th>\n",
       "      <td>Oven Story Pizza - Standout Toppings</td>\n",
       "      <td>4.400000</td>\n",
       "    </tr>\n",
       "    <tr>\n",
       "      <th>15</th>\n",
       "      <td>Oye Kiddan</td>\n",
       "      <td>3.700000</td>\n",
       "    </tr>\n",
       "    <tr>\n",
       "      <th>16</th>\n",
       "      <td>Persia Darbar</td>\n",
       "      <td>4.400000</td>\n",
       "    </tr>\n",
       "    <tr>\n",
       "      <th>17</th>\n",
       "      <td>Pizza Hut</td>\n",
       "      <td>3.792857</td>\n",
       "    </tr>\n",
       "    <tr>\n",
       "      <th>18</th>\n",
       "      <td>Sarovar Pure Veg</td>\n",
       "      <td>4.200000</td>\n",
       "    </tr>\n",
       "    <tr>\n",
       "      <th>19</th>\n",
       "      <td>Subway</td>\n",
       "      <td>3.925000</td>\n",
       "    </tr>\n",
       "    <tr>\n",
       "      <th>20</th>\n",
       "      <td>The Belgian Waffle Co.</td>\n",
       "      <td>4.200000</td>\n",
       "    </tr>\n",
       "    <tr>\n",
       "      <th>21</th>\n",
       "      <td>Theobroma</td>\n",
       "      <td>4.400000</td>\n",
       "    </tr>\n",
       "  </tbody>\n",
       "</table>\n",
       "</div>"
      ],
      "text/plain": [
       "                         resturant_names   Ratings\n",
       "0                                7Eleven  4.100000\n",
       "1                Bhagwati Veg Restaurant  4.250000\n",
       "2                            Cafe Heaven  3.900000\n",
       "3             Cheelizza - India Ka Pizza  4.200000\n",
       "4                            Chinese Wok  4.100000\n",
       "5                                Cremure  4.500000\n",
       "6                            Dabba Garam  4.300000\n",
       "7                          HRX by EatFit  4.100000\n",
       "8                        La Pino'z Pizza  3.833333\n",
       "9                   Lil Gamby Pizza Shop  4.200000\n",
       "10          Lil Gamby Pizza Shop And Bar  4.300000\n",
       "11                            McDonald's  4.223077\n",
       "12                                Meraki  4.200000\n",
       "13                        NIC Ice Creams  4.500000\n",
       "14  Oven Story Pizza - Standout Toppings  4.400000\n",
       "15                            Oye Kiddan  3.700000\n",
       "16                         Persia Darbar  4.400000\n",
       "17                             Pizza Hut  3.792857\n",
       "18                      Sarovar Pure Veg  4.200000\n",
       "19                                Subway  3.925000\n",
       "20                The Belgian Waffle Co.  4.200000\n",
       "21                             Theobroma  4.400000"
      ]
     },
     "execution_count": 19,
     "metadata": {},
     "output_type": "execute_result"
    }
   ],
   "source": [
    "ratings_by_resturants = df.groupby('resturant_names', as_index=False).agg(\n",
    "    Ratings = ('rating', 'mean')\n",
    ")\n",
    "ratings_by_resturants"
   ]
  },
  {
   "cell_type": "markdown",
   "id": "71be3c6a",
   "metadata": {},
   "source": [
    "#### Find the higest rating by location."
   ]
  },
  {
   "cell_type": "code",
   "execution_count": 150,
   "id": "9bd351bf",
   "metadata": {},
   "outputs": [
    {
     "data": {
      "text/html": [
       "<div>\n",
       "<style scoped>\n",
       "    .dataframe tbody tr th:only-of-type {\n",
       "        vertical-align: middle;\n",
       "    }\n",
       "\n",
       "    .dataframe tbody tr th {\n",
       "        vertical-align: top;\n",
       "    }\n",
       "\n",
       "    .dataframe thead th {\n",
       "        text-align: right;\n",
       "    }\n",
       "</style>\n",
       "<table border=\"1\" class=\"dataframe\">\n",
       "  <thead>\n",
       "    <tr style=\"text-align: right;\">\n",
       "      <th></th>\n",
       "      <th>location</th>\n",
       "      <th>resturant_names</th>\n",
       "      <th>rating</th>\n",
       "    </tr>\n",
       "  </thead>\n",
       "  <tbody>\n",
       "    <tr>\n",
       "      <th>421</th>\n",
       "      <td>Borivali East</td>\n",
       "      <td>Theobroma</td>\n",
       "      <td>4.4</td>\n",
       "    </tr>\n",
       "    <tr>\n",
       "      <th>276</th>\n",
       "      <td>Chakala</td>\n",
       "      <td>Vihara - The International By Tunga</td>\n",
       "      <td>4.3</td>\n",
       "    </tr>\n",
       "    <tr>\n",
       "      <th>209</th>\n",
       "      <td>Chembur</td>\n",
       "      <td>McDonald's</td>\n",
       "      <td>4.3</td>\n",
       "    </tr>\n",
       "    <tr>\n",
       "      <th>492</th>\n",
       "      <td>Churchgate</td>\n",
       "      <td>Chaayos Chai+Snacks=Relax</td>\n",
       "      <td>4.4</td>\n",
       "    </tr>\n",
       "    <tr>\n",
       "      <th>308</th>\n",
       "      <td>Colaba</td>\n",
       "      <td>McDonald's</td>\n",
       "      <td>4.3</td>\n",
       "    </tr>\n",
       "    <tr>\n",
       "      <th>169</th>\n",
       "      <td>Juhu</td>\n",
       "      <td>McDonald's</td>\n",
       "      <td>4.2</td>\n",
       "    </tr>\n",
       "    <tr>\n",
       "      <th>472</th>\n",
       "      <td>Kandivali West</td>\n",
       "      <td>Theobroma</td>\n",
       "      <td>4.4</td>\n",
       "    </tr>\n",
       "    <tr>\n",
       "      <th>264</th>\n",
       "      <td>Khar</td>\n",
       "      <td>Mani's Cafe</td>\n",
       "      <td>4.4</td>\n",
       "    </tr>\n",
       "    <tr>\n",
       "      <th>44</th>\n",
       "      <td>Lower Parel</td>\n",
       "      <td>Subway</td>\n",
       "      <td>4.3</td>\n",
       "    </tr>\n",
       "    <tr>\n",
       "      <th>128</th>\n",
       "      <td>Malad East</td>\n",
       "      <td>Idli Dosa Fusion</td>\n",
       "      <td>4.3</td>\n",
       "    </tr>\n",
       "    <tr>\n",
       "      <th>87</th>\n",
       "      <td>Malad West</td>\n",
       "      <td>Purshottam Kandoi Haribhai Damodar Mithaiwala</td>\n",
       "      <td>4.4</td>\n",
       "    </tr>\n",
       "    <tr>\n",
       "      <th>241</th>\n",
       "      <td>Marol</td>\n",
       "      <td>Mani's Cafe</td>\n",
       "      <td>4.3</td>\n",
       "    </tr>\n",
       "    <tr>\n",
       "      <th>11</th>\n",
       "      <td>Powai</td>\n",
       "      <td>McDonald's</td>\n",
       "      <td>4.4</td>\n",
       "    </tr>\n",
       "    <tr>\n",
       "      <th>380</th>\n",
       "      <td>Sakinaka</td>\n",
       "      <td>Natural Ice Cream</td>\n",
       "      <td>4.6</td>\n",
       "    </tr>\n",
       "    <tr>\n",
       "      <th>54</th>\n",
       "      <td>Vashi</td>\n",
       "      <td>McDonald's</td>\n",
       "      <td>4.4</td>\n",
       "    </tr>\n",
       "  </tbody>\n",
       "</table>\n",
       "</div>"
      ],
      "text/plain": [
       "           location                                resturant_names  rating\n",
       "421   Borivali East                                      Theobroma     4.4\n",
       "276         Chakala            Vihara - The International By Tunga     4.3\n",
       "209         Chembur                                     McDonald's     4.3\n",
       "492      Churchgate                      Chaayos Chai+Snacks=Relax     4.4\n",
       "308          Colaba                                     McDonald's     4.3\n",
       "169            Juhu                                     McDonald's     4.2\n",
       "472  Kandivali West                                      Theobroma     4.4\n",
       "264            Khar                                    Mani's Cafe     4.4\n",
       "44      Lower Parel                                         Subway     4.3\n",
       "128      Malad East                               Idli Dosa Fusion     4.3\n",
       "87       Malad West  Purshottam Kandoi Haribhai Damodar Mithaiwala     4.4\n",
       "241           Marol                                    Mani's Cafe     4.3\n",
       "11            Powai                                     McDonald's     4.4\n",
       "380        Sakinaka                              Natural Ice Cream     4.6\n",
       "54            Vashi                                     McDonald's     4.4"
      ]
     },
     "execution_count": 150,
     "metadata": {},
     "output_type": "execute_result"
    }
   ],
   "source": [
    "rating_by_location = df[['location','resturant_names','rating']].loc[df.groupby('location')['rating'].idxmax()]\n",
    "rating_by_location"
   ]
  },
  {
   "cell_type": "markdown",
   "id": "acdab4e4",
   "metadata": {},
   "source": [
    "## Feature Engineering"
   ]
  },
  {
   "cell_type": "markdown",
   "id": "8ff0a12f",
   "metadata": {},
   "source": [
    "#### Normalisation"
   ]
  },
  {
   "cell_type": "code",
   "execution_count": 155,
   "id": "5176d7e1",
   "metadata": {},
   "outputs": [],
   "source": [
    "# selecting the important column.\n",
    "data_for_modelling = df[['location','resturant_names','delivery_time']]\n",
    "\n",
    "# initializing the label encoder\n",
    "le = LabelEncoder()"
   ]
  },
  {
   "cell_type": "code",
   "execution_count": 156,
   "id": "b4c77582",
   "metadata": {},
   "outputs": [
    {
     "name": "stdout",
     "output_type": "stream",
     "text": [
      "['Powai' 'Lower Parel' 'Vashi' 'Malad West' 'Malad East' 'Juhu' 'Chembur'\n",
      " 'Marol' 'Khar' 'Chakala' 'Colaba' 'Sakinaka' 'Borivali East'\n",
      " 'Kandivali West' 'Churchgate']\n"
     ]
    }
   ],
   "source": [
    "# handling location feature.\n",
    "print(data_for_modelling.location.unique())\n",
    "data_for_modelling[\"location\"] = le.fit_transform(data_for_modelling[\"location\"])"
   ]
  },
  {
   "cell_type": "code",
   "execution_count": 159,
   "id": "0dda4e5a",
   "metadata": {},
   "outputs": [
    {
     "name": "stdout",
     "output_type": "stream",
     "text": [
      "['Chaayos Chai+Snacks=Relax' 'Starbucks Coffee' \"McDonald's\"\n",
      " 'Poetry by Love and Cheesecake' 'Hotel Laxmi Next' 'Pizza Hut'\n",
      " \"Mani's Cafe\" 'Subway' 'Mamledar Misal' 'Nothing But Chicken' 'EatFit'\n",
      " 'Purshottam Kandoi Haribhai Damodar Mithaiwala' 'Idli Dosa Fusion'\n",
      " 'Burger King' 'South Tiffin House' \"La Pino'z Pizza\"\n",
      " 'Vihara - The International By Tunga' '7Eleven' 'Natural Ice Cream'\n",
      " 'Theobroma' 'Cafe Mazda Restaurant']\n"
     ]
    }
   ],
   "source": [
    "# handling resturant_names feature.\n",
    "print(data_for_modelling.resturant_names.unique())\n",
    "data_for_modelling[\"resturant_names\"] = le.fit_transform(data_for_modelling[\"resturant_names\"])"
   ]
  },
  {
   "cell_type": "code",
   "execution_count": 160,
   "id": "f0b35c36",
   "metadata": {},
   "outputs": [
    {
     "data": {
      "text/html": [
       "<div>\n",
       "<style scoped>\n",
       "    .dataframe tbody tr th:only-of-type {\n",
       "        vertical-align: middle;\n",
       "    }\n",
       "\n",
       "    .dataframe tbody tr th {\n",
       "        vertical-align: top;\n",
       "    }\n",
       "\n",
       "    .dataframe thead th {\n",
       "        text-align: right;\n",
       "    }\n",
       "</style>\n",
       "<table border=\"1\" class=\"dataframe\">\n",
       "  <thead>\n",
       "    <tr style=\"text-align: right;\">\n",
       "      <th></th>\n",
       "      <th>location</th>\n",
       "      <th>resturant_names</th>\n",
       "      <th>delivery_time</th>\n",
       "    </tr>\n",
       "  </thead>\n",
       "  <tbody>\n",
       "    <tr>\n",
       "      <th>0</th>\n",
       "      <td>12</td>\n",
       "      <td>3</td>\n",
       "      <td>41</td>\n",
       "    </tr>\n",
       "    <tr>\n",
       "      <th>10</th>\n",
       "      <td>12</td>\n",
       "      <td>17</td>\n",
       "      <td>20</td>\n",
       "    </tr>\n",
       "    <tr>\n",
       "      <th>11</th>\n",
       "      <td>12</td>\n",
       "      <td>10</td>\n",
       "      <td>20</td>\n",
       "    </tr>\n",
       "    <tr>\n",
       "      <th>21</th>\n",
       "      <td>12</td>\n",
       "      <td>14</td>\n",
       "      <td>22</td>\n",
       "    </tr>\n",
       "    <tr>\n",
       "      <th>22</th>\n",
       "      <td>12</td>\n",
       "      <td>5</td>\n",
       "      <td>22</td>\n",
       "    </tr>\n",
       "    <tr>\n",
       "      <th>...</th>\n",
       "      <td>...</td>\n",
       "      <td>...</td>\n",
       "      <td>...</td>\n",
       "    </tr>\n",
       "    <tr>\n",
       "      <th>492</th>\n",
       "      <td>3</td>\n",
       "      <td>3</td>\n",
       "      <td>15</td>\n",
       "    </tr>\n",
       "    <tr>\n",
       "      <th>502</th>\n",
       "      <td>3</td>\n",
       "      <td>1</td>\n",
       "      <td>19</td>\n",
       "    </tr>\n",
       "    <tr>\n",
       "      <th>503</th>\n",
       "      <td>3</td>\n",
       "      <td>13</td>\n",
       "      <td>26</td>\n",
       "    </tr>\n",
       "    <tr>\n",
       "      <th>513</th>\n",
       "      <td>3</td>\n",
       "      <td>2</td>\n",
       "      <td>27</td>\n",
       "    </tr>\n",
       "    <tr>\n",
       "      <th>514</th>\n",
       "      <td>3</td>\n",
       "      <td>18</td>\n",
       "      <td>27</td>\n",
       "    </tr>\n",
       "  </tbody>\n",
       "</table>\n",
       "<p>74 rows × 3 columns</p>\n",
       "</div>"
      ],
      "text/plain": [
       "     location  resturant_names  delivery_time\n",
       "0          12                3             41\n",
       "10         12               17             20\n",
       "11         12               10             20\n",
       "21         12               14             22\n",
       "22         12                5             22\n",
       "..        ...              ...            ...\n",
       "492         3                3             15\n",
       "502         3                1             19\n",
       "503         3               13             26\n",
       "513         3                2             27\n",
       "514         3               18             27\n",
       "\n",
       "[74 rows x 3 columns]"
      ]
     },
     "execution_count": 160,
     "metadata": {},
     "output_type": "execute_result"
    }
   ],
   "source": [
    "data_for_modelling"
   ]
  },
  {
   "cell_type": "code",
   "execution_count": 182,
   "id": "4f783699",
   "metadata": {},
   "outputs": [
    {
     "name": "stdout",
     "output_type": "stream",
     "text": [
      "(74, 2)\n",
      "(74,)\n"
     ]
    }
   ],
   "source": [
    "X = data_for_modelling.drop(['delivery_time'], axis = 1)\n",
    "Y = df[\"delivery_time\"]\n",
    "xData = X.values\n",
    "yData = Y.values\n",
    "print(X.shape)\n",
    "print(Y.shape)"
   ]
  },
  {
   "cell_type": "code",
   "execution_count": 204,
   "id": "57b58b88",
   "metadata": {},
   "outputs": [
    {
     "ename": "TypeError",
     "evalue": "type numpy.ndarray doesn't define __round__ method",
     "output_type": "error",
     "traceback": [
      "\u001b[1;31m---------------------------------------------------------------------------\u001b[0m",
      "\u001b[1;31mTypeError\u001b[0m                                 Traceback (most recent call last)",
      "Cell \u001b[1;32mIn[204], line 8\u001b[0m\n\u001b[0;32m      6\u001b[0m lr \u001b[38;5;241m=\u001b[39m LinearRegression()                                      \n\u001b[0;32m      7\u001b[0m lr\u001b[38;5;241m.\u001b[39mfit(xTrain, yTrain)\n\u001b[1;32m----> 8\u001b[0m pred \u001b[38;5;241m=\u001b[39m \u001b[38;5;28;43mround\u001b[39;49m\u001b[43m(\u001b[49m\u001b[43mlr\u001b[49m\u001b[38;5;241;43m.\u001b[39;49m\u001b[43mpredict\u001b[49m\u001b[43m(\u001b[49m\u001b[43mxTest\u001b[49m\u001b[43m)\u001b[49m\u001b[43m,\u001b[49m\u001b[38;5;241;43m0\u001b[39;49m\u001b[43m)\u001b[49m\n",
      "\u001b[1;31mTypeError\u001b[0m: type numpy.ndarray doesn't define __round__ method"
     ]
    }
   ],
   "source": [
    "# spliting data into training and testing columns.\n",
    "xTrain, xTest, yTrain, yTest = train_test_split(xData, yData, test_size = 0.20,random_state = 7)\n",
    "# storing yTest in the list (yTest_list).\n",
    "\n",
    "# making use of Linear regression model. \n",
    "lr = LinearRegression()                                      \n",
    "lr.fit(xTrain, yTrain)\n",
    "pred = lr.predict(xTest)"
   ]
  },
  {
   "cell_type": "markdown",
   "id": "d456fb46",
   "metadata": {},
   "source": [
    "#### comparing the actual and predicted value."
   ]
  },
  {
   "cell_type": "code",
   "execution_count": 205,
   "id": "80d791d7",
   "metadata": {},
   "outputs": [
    {
     "name": "stdout",
     "output_type": "stream",
     "text": [
      "28 25.0\n",
      "27 26.0\n",
      "22 24.0\n",
      "18 24.0\n",
      "25 24.0\n",
      "35 25.0\n",
      "20 25.0\n",
      "30 25.0\n",
      "26 26.0\n",
      "29 25.0\n",
      "26 26.0\n",
      "27 26.0\n",
      "24 25.0\n",
      "27 25.0\n",
      "25 25.0\n"
     ]
    }
   ],
   "source": [
    "for i in range(len(yTest)):\n",
    "    print(yTest[i],round(pred[i],0))"
   ]
  },
  {
   "cell_type": "markdown",
   "id": "c5257280",
   "metadata": {},
   "source": [
    "## Evaluation"
   ]
  },
  {
   "cell_type": "code",
   "execution_count": 197,
   "id": "5f843900",
   "metadata": {},
   "outputs": [
    {
     "data": {
      "text/plain": [
       "15.456547684198966"
      ]
     },
     "execution_count": 197,
     "metadata": {},
     "output_type": "execute_result"
    }
   ],
   "source": [
    "mean_se = mse(yTest,lr.predict(xTest))\n",
    "mean_se"
   ]
  },
  {
   "cell_type": "code",
   "execution_count": 198,
   "id": "5932a083",
   "metadata": {},
   "outputs": [
    {
     "data": {
      "text/plain": [
       "3.9314816143788547"
      ]
     },
     "execution_count": 198,
     "metadata": {},
     "output_type": "execute_result"
    }
   ],
   "source": [
    "# since, rmse is simply the square root of mse. so, we will just find square root\n",
    "# of mse using math function.\n",
    "root_mse = math.sqrt(mean_se)\n",
    "root_mse"
   ]
  },
  {
   "cell_type": "code",
   "execution_count": 200,
   "id": "c2e688fa",
   "metadata": {},
   "outputs": [
    {
     "name": "stdout",
     "output_type": "stream",
     "text": [
      "18 35\n",
      "\n"
     ]
    }
   ],
   "source": [
    "# finding yTest range.\n",
    "min_y = yTest.min()\n",
    "max_y = yTest.max()\n",
    "print(min_y,max_y)\n",
    "print()"
   ]
  },
  {
   "cell_type": "code",
   "execution_count": null,
   "id": "ac450504",
   "metadata": {},
   "outputs": [],
   "source": []
  }
 ],
 "metadata": {
  "kernelspec": {
   "display_name": "Python 3 (ipykernel)",
   "language": "python",
   "name": "python3"
  },
  "language_info": {
   "codemirror_mode": {
    "name": "ipython",
    "version": 3
   },
   "file_extension": ".py",
   "mimetype": "text/x-python",
   "name": "python",
   "nbconvert_exporter": "python",
   "pygments_lexer": "ipython3",
   "version": "3.11.3"
  }
 },
 "nbformat": 4,
 "nbformat_minor": 5
}
